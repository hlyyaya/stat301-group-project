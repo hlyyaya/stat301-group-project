{
 "cells": [
  {
   "cell_type": "markdown",
   "id": "0f955bc6-f31d-4e02-92ff-3d76dc76ffd8",
   "metadata": {},
   "source": [
    "**Introduction**\n",
    "\n",
    "University ranking serves as a comprehensive evaluation of a school's quality, drawing inputs not only from private and media sectors but also from professional associations and governments (Lukman, 2010). In this project, we aim to use the World University Rankings 2023 dataset, which includes over 1,799 universities globally and encompasses 13 performance indicators across domains such as university rankings, geographical distribution, student demographics, and performance across key metrics. Featuring both numerical and textual variables, the dataset offers a comprehensive perspective on university performance and characteristics.\n",
    "\n",
    "\n",
    "In this project, our objective is to predict the teaching score by all other variables within the university rankings dataset. Previous research has highlighted the significant impact of university educational achievements on ranking outcomes (Distanont & Khongmalai, 2020). However, the teaching score is influenced by a complex array of dynamic and interrelated factors, which can be challenging to navigate (Hertig, 2016). To tackle this complexity, we plan to employ both inference and predictive modeling to establish relationships among these factors and achieve our objective. By doing so, we seek to provide insights for policymakers seeking to enhance educational quality and optimize resource allocation within higher education institutions. \n"
   ]
  },
  {
   "cell_type": "markdown",
   "id": "f90c8af2-3997-476f-a7d9-9eb34e680a3b",
   "metadata": {},
   "source": [
    "**Reference**\n",
    "\n",
    "\n",
    "Distanont, A., & Khongmalai, O. (2020). The role of innovation in creating a competitive advantage. Kasetsart Journal of Social Sciences, https://doi.org/10.1016/j.kjss.2018.07.009\n",
    "\n",
    "\n",
    "Downing, K., Loock, P.J., & Gravett, S. (2021). The Impact of Higher Education Ranking Systems on Universities (1st ed.). Routledge. https://doi.org/10.4324/9781003002543\n",
    " \n",
    "Hertig, H., & Springer Nature - Springer Education eBooks 2016 English International. (2016). Universities, rankings, and the dynamics of global higher education: Perspectives from asia, europe, and north america (1st ed.). Palgrave Macmillan. https://doi.org/10.1057/978-1-137-46999-1\n"
   ]
  }
 ],
 "metadata": {
  "kernelspec": {
   "display_name": "R",
   "language": "R",
   "name": "ir"
  },
  "language_info": {
   "codemirror_mode": "r",
   "file_extension": ".r",
   "mimetype": "text/x-r-source",
   "name": "R",
   "pygments_lexer": "r",
   "version": "4.2.3"
  }
 },
 "nbformat": 4,
 "nbformat_minor": 5
}
